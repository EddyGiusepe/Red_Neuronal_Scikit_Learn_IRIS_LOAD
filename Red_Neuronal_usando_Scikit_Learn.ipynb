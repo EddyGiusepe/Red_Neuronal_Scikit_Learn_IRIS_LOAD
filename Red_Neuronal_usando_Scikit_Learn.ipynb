{
  "nbformat": 4,
  "nbformat_minor": 0,
  "metadata": {
    "colab": {
      "name": "Red_Neuronal_usando_Scikit_Learn.ipynb",
      "provenance": [],
      "authorship_tag": "ABX9TyPFaVDVkiB5/7uNLzvP6XKS",
      "include_colab_link": true
    },
    "kernelspec": {
      "name": "python3",
      "display_name": "Python 3"
    },
    "accelerator": "GPU"
  },
  "cells": [
    {
      "cell_type": "markdown",
      "metadata": {
        "id": "view-in-github",
        "colab_type": "text"
      },
      "source": [
        "<a href=\"https://colab.research.google.com/github/EddyGiusepe/Red_Neuronal_Scikit_Learn_IRIS_LOAD/blob/main/Red_Neuronal_usando_Scikit_Learn.ipynb\" target=\"_parent\"><img src=\"https://colab.research.google.com/assets/colab-badge.svg\" alt=\"Open In Colab\"/></a>"
      ]
    },
    {
      "cell_type": "markdown",
      "metadata": {
        "id": "uF1phKAdlgmT"
      },
      "source": [
        "## Exemplo de Red Neuronal Usando ``Scikit Learn``"
      ]
    },
    {
      "cell_type": "code",
      "metadata": {
        "id": "1FwwuuIYlG3v"
      },
      "source": [
        "import sklearn\r\n",
        "from sklearn.datasets import load_iris\r\n",
        "from sklearn.model_selection import train_test_split\r\n",
        "from sklearn.neural_network import MLPClassifier\r\n",
        "\r\n"
      ],
      "execution_count": 1,
      "outputs": []
    },
    {
      "cell_type": "markdown",
      "metadata": {
        "id": "_SMv4Uhr-PFT"
      },
      "source": [
        "## Pasamos nuestros Datos a la  variable ``iris``"
      ]
    },
    {
      "cell_type": "code",
      "metadata": {
        "id": "34QXpVJmluWe"
      },
      "source": [
        "iris = load_iris()"
      ],
      "execution_count": 2,
      "outputs": []
    },
    {
      "cell_type": "markdown",
      "metadata": {
        "id": "ixeTN777-ifT"
      },
      "source": [
        "## Dividimos nuestros Datos en características y etiquetas"
      ]
    },
    {
      "cell_type": "code",
      "metadata": {
        "id": "B3IeShneobvP"
      },
      "source": [
        "caract = iris.data"
      ],
      "execution_count": 3,
      "outputs": []
    },
    {
      "cell_type": "code",
      "metadata": {
        "id": "0FoblNTronCy"
      },
      "source": [
        "etiq = iris.target"
      ],
      "execution_count": 4,
      "outputs": []
    },
    {
      "cell_type": "code",
      "metadata": {
        "id": "Cqs8S1Ehota0"
      },
      "source": [
        "train_x, test_x, train_y, test_y = train_test_split(caract, etiq)"
      ],
      "execution_count": 5,
      "outputs": []
    },
    {
      "cell_type": "markdown",
      "metadata": {
        "id": "yBFCxiQO-25q"
      },
      "source": [
        "## Nuestro modelo de Red Neuronal\r\n",
        "\r\n",
        "* ``hidden_layer_sizes=(10)`` Es una capa oculta con $10$ nodos.\r\n",
        "\r\n",
        "* ``hidden_layer_sizes=(10, 10)`` Son $10$ capas ocultas y cada una con $10$ nodos"
      ]
    },
    {
      "cell_type": "code",
      "metadata": {
        "id": "fwahzi9eo-Sk"
      },
      "source": [
        "red = MLPClassifier(max_iter = 400, hidden_layer_sizes=(10, 10))"
      ],
      "execution_count": 6,
      "outputs": []
    },
    {
      "cell_type": "code",
      "metadata": {
        "colab": {
          "base_uri": "https://localhost:8080/"
        },
        "id": "O91nSeGspIXc",
        "outputId": "d243b943-4295-4a17-b573-53a09b3e37e1"
      },
      "source": [
        "red.fit(train_x, train_y)"
      ],
      "execution_count": 7,
      "outputs": [
        {
          "output_type": "stream",
          "text": [
            "/usr/local/lib/python3.6/dist-packages/sklearn/neural_network/_multilayer_perceptron.py:571: ConvergenceWarning: Stochastic Optimizer: Maximum iterations (400) reached and the optimization hasn't converged yet.\n",
            "  % self.max_iter, ConvergenceWarning)\n"
          ],
          "name": "stderr"
        },
        {
          "output_type": "execute_result",
          "data": {
            "text/plain": [
              "MLPClassifier(activation='relu', alpha=0.0001, batch_size='auto', beta_1=0.9,\n",
              "              beta_2=0.999, early_stopping=False, epsilon=1e-08,\n",
              "              hidden_layer_sizes=(10, 10), learning_rate='constant',\n",
              "              learning_rate_init=0.001, max_fun=15000, max_iter=400,\n",
              "              momentum=0.9, n_iter_no_change=10, nesterovs_momentum=True,\n",
              "              power_t=0.5, random_state=None, shuffle=True, solver='adam',\n",
              "              tol=0.0001, validation_fraction=0.1, verbose=False,\n",
              "              warm_start=False)"
            ]
          },
          "metadata": {
            "tags": []
          },
          "execution_count": 7
        }
      ]
    },
    {
      "cell_type": "code",
      "metadata": {
        "colab": {
          "base_uri": "https://localhost:8080/"
        },
        "id": "Tpz4PFVYpOWi",
        "outputId": "09ea11ad-d665-4653-b1d6-f761c2e77c76"
      },
      "source": [
        "red.score(test_x, test_y)"
      ],
      "execution_count": 8,
      "outputs": [
        {
          "output_type": "execute_result",
          "data": {
            "text/plain": [
              "0.9210526315789473"
            ]
          },
          "metadata": {
            "tags": []
          },
          "execution_count": 8
        }
      ]
    },
    {
      "cell_type": "code",
      "metadata": {
        "id": "PUYAKdYapUB9"
      },
      "source": [
        ""
      ],
      "execution_count": 8,
      "outputs": []
    }
  ]
}